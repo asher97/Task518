{
 "cells": [
  {
   "cell_type": "code",
   "execution_count": 1,
   "metadata": {},
   "outputs": [],
   "source": [
    "a= 10\n",
    "b = 12.5\n",
    "z = True\n",
    "w= \"string\""
   ]
  },
  {
   "cell_type": "code",
   "execution_count": 2,
   "metadata": {},
   "outputs": [
    {
     "data": {
      "text/plain": [
       "2"
      ]
     },
     "execution_count": 2,
     "metadata": {},
     "output_type": "execute_result"
    }
   ],
   "source": [
    "12//6 #for Integer Division use // for float  /"
   ]
  },
  {
   "cell_type": "code",
   "execution_count": 3,
   "metadata": {},
   "outputs": [
    {
     "data": {
      "text/plain": [
       "2"
      ]
     },
     "execution_count": 3,
     "metadata": {},
     "output_type": "execute_result"
    }
   ],
   "source": [
    "12%5 #returns remainder \n"
   ]
  },
  {
   "cell_type": "code",
   "execution_count": 8,
   "metadata": {},
   "outputs": [
    {
     "data": {
      "text/plain": [
       "201"
      ]
     },
     "execution_count": 8,
     "metadata": {},
     "output_type": "execute_result"
    }
   ],
   "source": [
    "num=1\n",
    "num+=200           ##Incremental or decremental function \n",
    "num"
   ]
  },
  {
   "cell_type": "code",
   "execution_count": 5,
   "metadata": {},
   "outputs": [],
   "source": [
    "num*=2"
   ]
  },
  {
   "cell_type": "code",
   "execution_count": 6,
   "metadata": {},
   "outputs": [
    {
     "data": {
      "text/plain": [
       "402"
      ]
     },
     "execution_count": 6,
     "metadata": {},
     "output_type": "execute_result"
    }
   ],
   "source": [
    "num"
   ]
  },
  {
   "cell_type": "code",
   "execution_count": 7,
   "metadata": {},
   "outputs": [
    {
     "data": {
      "text/plain": [
       "400"
      ]
     },
     "execution_count": 7,
     "metadata": {},
     "output_type": "execute_result"
    }
   ],
   "source": [
    "num-=2\n",
    "num"
   ]
  },
  {
   "cell_type": "code",
   "execution_count": 9,
   "metadata": {},
   "outputs": [],
   "source": [
    "## Eliminating imbulating ---> BODMAS RULE \n",
    "a=12*2/4"
   ]
  },
  {
   "cell_type": "code",
   "execution_count": 10,
   "metadata": {},
   "outputs": [
    {
     "data": {
      "text/plain": [
       "6.0"
      ]
     },
     "execution_count": 10,
     "metadata": {},
     "output_type": "execute_result"
    }
   ],
   "source": [
    "a"
   ]
  },
  {
   "cell_type": "code",
   "execution_count": 11,
   "metadata": {},
   "outputs": [
    {
     "data": {
      "text/plain": [
       "7.0"
      ]
     },
     "execution_count": 11,
     "metadata": {},
     "output_type": "execute_result"
    }
   ],
   "source": [
    "a = (12*2)/4+1\n",
    "a"
   ]
  },
  {
   "cell_type": "code",
   "execution_count": 13,
   "metadata": {},
   "outputs": [
    {
     "data": {
      "text/plain": [
       "float"
      ]
     },
     "execution_count": 13,
     "metadata": {},
     "output_type": "execute_result"
    }
   ],
   "source": [
    "type (a)"
   ]
  },
  {
   "cell_type": "code",
   "execution_count": 14,
   "metadata": {},
   "outputs": [
    {
     "data": {
      "text/plain": [
       "7"
      ]
     },
     "execution_count": 14,
     "metadata": {},
     "output_type": "execute_result"
    }
   ],
   "source": [
    "int(a)"
   ]
  },
  {
   "cell_type": "code",
   "execution_count": 16,
   "metadata": {},
   "outputs": [
    {
     "name": "stdout",
     "output_type": "stream",
     "text": [
      "my name isAsherand age is10\n"
     ]
    }
   ],
   "source": [
    "#concatenating text into strings #method#1 \n",
    "age = 10\n",
    "name = \"Asher\"\n",
    "print(\"my name is\" + name + \"and age is\" + str (age))"
   ]
  },
  {
   "cell_type": "code",
   "execution_count": 21,
   "metadata": {},
   "outputs": [
    {
     "name": "stdout",
     "output_type": "stream",
     "text": [
      "Enter your age please: 23\n",
      " Enter your name please: Asher\n",
      "my name isAsher and my age is 23\n"
     ]
    }
   ],
   "source": [
    "## input function\n",
    "age = input(\"Enter your age please: \")\n",
    "name = input(\" Enter your name please: \")\n",
    "print(\"my name is\"+name+\" and my age is \"+str(age))"
   ]
  },
  {
   "cell_type": "code",
   "execution_count": 22,
   "metadata": {},
   "outputs": [
    {
     "name": "stdout",
     "output_type": "stream",
     "text": [
      "my name is Asher and my age is 23\n"
     ]
    }
   ],
   "source": [
    "#concatenating method #2 .format\n",
    "print(\"my name is {} and my age is {}\".format(name,age))\n"
   ]
  },
  {
   "cell_type": "code",
   "execution_count": 24,
   "metadata": {},
   "outputs": [
    {
     "name": "stdout",
     "output_type": "stream",
     "text": [
      " my name is Asher and my age is 23\n"
     ]
    }
   ],
   "source": [
    "#concatenating method #3 .format ---> Latest \n",
    "print(f\" my name is {name} and my age is {age}\")"
   ]
  },
  {
   "cell_type": "code",
   "execution_count": 28,
   "metadata": {},
   "outputs": [
    {
     "name": "stdout",
     "output_type": "stream",
     "text": [
      "Enter your Age please: 23\n",
      "Enter your Name please: Asher\n",
      "my name is Asher and my age is 23\n"
     ]
    }
   ],
   "source": [
    "## Using All \n",
    "age = int(input(\"Enter your Age please: \"))\n",
    "Name = input(\"Enter your Name please: \")\n",
    "print(\"my name is {} and my age is {}\".format(name, age))"
   ]
  },
  {
   "cell_type": "code",
   "execution_count": 30,
   "metadata": {},
   "outputs": [
    {
     "name": "stdout",
     "output_type": "stream",
     "text": [
      "Enter your Age please: 23\n",
      "Enter your Name please: Asher\n",
      "my name is 23 and my age is Asher\n"
     ]
    }
   ],
   "source": [
    "## .format position \n",
    "age = int(input(\"Enter your Age please: \"))\n",
    "Name = input(\"Enter your Name please: \")\n",
    "print(\"my name is {1} and my age is {0}\".format(name, age)) # 0 indicates first and 1 indicate 2nd if not mentioned the auto\n",
    "# automatic first one first "
   ]
  },
  {
   "cell_type": "markdown",
   "metadata": {},
   "source": [
    "## IF STATEMENT \n"
   ]
  },
  {
   "cell_type": "code",
   "execution_count": 40,
   "metadata": {},
   "outputs": [
    {
     "name": "stdout",
     "output_type": "stream",
     "text": [
      "a is grater than b\n",
      "OK\n"
     ]
    }
   ],
   "source": [
    "a = 5\n",
    "b = 2\n",
    "if a<b:\n",
    "    print(\"a is less than b\")\n",
    "if a>b:\n",
    "    print (\"a is grater than b\")\n",
    "print(\"OK\")"
   ]
  },
  {
   "cell_type": "code",
   "execution_count": 50,
   "metadata": {},
   "outputs": [
    {
     "ename": "SyntaxError",
     "evalue": "invalid syntax (<ipython-input-50-3a1f131b6e09>, line 3)",
     "output_type": "error",
     "traceback": [
      "\u001b[1;36m  File \u001b[1;32m\"<ipython-input-50-3a1f131b6e09>\"\u001b[1;36m, line \u001b[1;32m3\u001b[0m\n\u001b[1;33m    if a%2==0:\u001b[0m\n\u001b[1;37m             ^\u001b[0m\n\u001b[1;31mSyntaxError\u001b[0m\u001b[1;31m:\u001b[0m invalid syntax\n"
     ]
    }
   ],
   "source": [
    "a = int(input(\"please input your first value: \")\n",
    "\n",
    "if a%2==0:\n",
    "    print(\"it is even\")\n",
    "else:\n",
    "    print(\"it is not\")"
   ]
  },
  {
   "cell_type": "code",
   "execution_count": 51,
   "metadata": {},
   "outputs": [
    {
     "name": "stdout",
     "output_type": "stream",
     "text": [
      "please input your first value: 20\n",
      "20 is even\n"
     ]
    }
   ],
   "source": [
    "### EVEN FUNCTION remainder = 0  <==> means equal to\n",
    "a=int(input (\"please input your first value: \"))\n",
    "if a%2==0:\n",
    "    print(f\"{a} is even\")\n",
    "else:\n",
    "    print(f\"{a} is odd\")\n"
   ]
  },
  {
   "cell_type": "code",
   "execution_count": 55,
   "metadata": {},
   "outputs": [
    {
     "name": "stdout",
     "output_type": "stream",
     "text": [
      "please input your first value: 44\n",
      "44 is even\n"
     ]
    }
   ],
   "source": [
    "### EVEN FUNCTION remainder not 0  != not equal to\n",
    "a=int(input (\"please input your first value: \"))\n",
    "if a%2!=0:\n",
    "    print(f\"{a} is odd\")\n",
    "else:\n",
    "    print(f\"{a} is even\")\n"
   ]
  },
  {
   "cell_type": "code",
   "execution_count": null,
   "metadata": {},
   "outputs": [],
   "source": []
  },
  {
   "cell_type": "code",
   "execution_count": null,
   "metadata": {},
   "outputs": [],
   "source": []
  },
  {
   "cell_type": "code",
   "execution_count": null,
   "metadata": {},
   "outputs": [],
   "source": []
  }
 ],
 "metadata": {
  "kernelspec": {
   "display_name": "Python 3",
   "language": "python",
   "name": "python3"
  },
  "language_info": {
   "codemirror_mode": {
    "name": "ipython",
    "version": 3
   },
   "file_extension": ".py",
   "mimetype": "text/x-python",
   "name": "python",
   "nbconvert_exporter": "python",
   "pygments_lexer": "ipython3",
   "version": "3.7.3"
  }
 },
 "nbformat": 4,
 "nbformat_minor": 2
}
